{
 "cells": [
  {
   "cell_type": "code",
   "execution_count": null,
   "metadata": {
    "executionInfo": {
     "elapsed": 231,
     "status": "ok",
     "timestamp": 1731137115726,
     "user": {
      "displayName": "Rob Lockhart",
      "userId": "01044438973033394273"
     },
     "user_tz": 0
    },
    "id": "iPW9VHFxn7Ax"
   },
   "outputs": [],
   "source": [
    "#!pip install -U tensorflow==2.15.1"
   ]
  },
  {
   "cell_type": "code",
   "execution_count": 1,
   "metadata": {
    "executionInfo": {
     "elapsed": 15517,
     "status": "ok",
     "timestamp": 1731137005146,
     "user": {
      "displayName": "Rob Lockhart",
      "userId": "01044438973033394273"
     },
     "user_tz": 0
    },
    "id": "EWqgq39A5Ex4"
   },
   "outputs": [
    {
     "name": "stderr",
     "output_type": "stream",
     "text": [
      "2024-11-11 07:51:13.989128: I tensorflow/core/platform/cpu_feature_guard.cc:182] This TensorFlow binary is optimized to use available CPU instructions in performance-critical operations.\n",
      "To enable the following instructions: SSE4.1 SSE4.2 AVX AVX2 FMA, in other operations, rebuild TensorFlow with the appropriate compiler flags.\n"
     ]
    }
   ],
   "source": [
    "import os\n",
    "\n",
    "import numpy as np\n",
    "import pandas as pd\n",
    "import matplotlib.pyplot as plt\n",
    "from sklearn.model_selection import train_test_split\n",
    "from sklearn.preprocessing import StandardScaler\n",
    "from imblearn.over_sampling import RandomOverSampler\n",
    "\n",
    "import tensorflow as tf\n",
    "import tensorflow_hub as hub\n",
    "from tensorflow import keras\n"
   ]
  },
  {
   "cell_type": "code",
   "execution_count": 2,
   "metadata": {},
   "outputs": [
    {
     "name": "stdout",
     "output_type": "stream",
     "text": [
      "2.15.0\n"
     ]
    }
   ],
   "source": [
    "print(tf.version.VERSION)"
   ]
  },
  {
   "cell_type": "code",
   "execution_count": 3,
   "metadata": {
    "colab": {
     "base_uri": "https://localhost:8080/",
     "height": 431
    },
    "executionInfo": {
     "elapsed": 1185,
     "status": "ok",
     "timestamp": 1731137211732,
     "user": {
      "displayName": "Rob Lockhart",
      "userId": "01044438973033394273"
     },
     "user_tz": 0
    },
    "id": "DMaoIj_IoNHQ",
    "outputId": "56facac8-6e12-457a-a3f8-bf81b3a57b12"
   },
   "outputs": [
    {
     "name": "stdout",
     "output_type": "stream",
     "text": [
      "<class 'pandas.core.frame.DataFrame'>\n",
      "RangeIndex: 129971 entries, 0 to 129970\n",
      "Data columns (total 6 columns):\n",
      " #   Column       Non-Null Count   Dtype  \n",
      "---  ------       --------------   -----  \n",
      " 0   country      129908 non-null  object \n",
      " 1   description  129971 non-null  object \n",
      " 2   points       129971 non-null  int64  \n",
      " 3   price        120975 non-null  float64\n",
      " 4   variety      129970 non-null  object \n",
      " 5   winery       129971 non-null  object \n",
      "dtypes: float64(1), int64(1), object(4)\n",
      "memory usage: 5.9+ MB\n"
     ]
    },
    {
     "data": {
      "text/html": [
       "<div>\n",
       "<style scoped>\n",
       "    .dataframe tbody tr th:only-of-type {\n",
       "        vertical-align: middle;\n",
       "    }\n",
       "\n",
       "    .dataframe tbody tr th {\n",
       "        vertical-align: top;\n",
       "    }\n",
       "\n",
       "    .dataframe thead th {\n",
       "        text-align: right;\n",
       "    }\n",
       "</style>\n",
       "<table border=\"1\" class=\"dataframe\">\n",
       "  <thead>\n",
       "    <tr style=\"text-align: right;\">\n",
       "      <th></th>\n",
       "      <th>country</th>\n",
       "      <th>description</th>\n",
       "      <th>points</th>\n",
       "      <th>price</th>\n",
       "      <th>variety</th>\n",
       "      <th>winery</th>\n",
       "    </tr>\n",
       "  </thead>\n",
       "  <tbody>\n",
       "    <tr>\n",
       "      <th>0</th>\n",
       "      <td>Italy</td>\n",
       "      <td>Aromas include tropical fruit, broom, brimston...</td>\n",
       "      <td>87</td>\n",
       "      <td>NaN</td>\n",
       "      <td>White Blend</td>\n",
       "      <td>Nicosia</td>\n",
       "    </tr>\n",
       "    <tr>\n",
       "      <th>1</th>\n",
       "      <td>Portugal</td>\n",
       "      <td>This is ripe and fruity, a wine that is smooth...</td>\n",
       "      <td>87</td>\n",
       "      <td>15.0</td>\n",
       "      <td>Portuguese Red</td>\n",
       "      <td>Quinta dos Avidagos</td>\n",
       "    </tr>\n",
       "    <tr>\n",
       "      <th>2</th>\n",
       "      <td>US</td>\n",
       "      <td>Tart and snappy, the flavors of lime flesh and...</td>\n",
       "      <td>87</td>\n",
       "      <td>14.0</td>\n",
       "      <td>Pinot Gris</td>\n",
       "      <td>Rainstorm</td>\n",
       "    </tr>\n",
       "    <tr>\n",
       "      <th>3</th>\n",
       "      <td>US</td>\n",
       "      <td>Pineapple rind, lemon pith and orange blossom ...</td>\n",
       "      <td>87</td>\n",
       "      <td>13.0</td>\n",
       "      <td>Riesling</td>\n",
       "      <td>St. Julian</td>\n",
       "    </tr>\n",
       "    <tr>\n",
       "      <th>4</th>\n",
       "      <td>US</td>\n",
       "      <td>Much like the regular bottling from 2012, this...</td>\n",
       "      <td>87</td>\n",
       "      <td>65.0</td>\n",
       "      <td>Pinot Noir</td>\n",
       "      <td>Sweet Cheeks</td>\n",
       "    </tr>\n",
       "  </tbody>\n",
       "</table>\n",
       "</div>"
      ],
      "text/plain": [
       "    country                                        description  points  price  \\\n",
       "0     Italy  Aromas include tropical fruit, broom, brimston...      87    NaN   \n",
       "1  Portugal  This is ripe and fruity, a wine that is smooth...      87   15.0   \n",
       "2        US  Tart and snappy, the flavors of lime flesh and...      87   14.0   \n",
       "3        US  Pineapple rind, lemon pith and orange blossom ...      87   13.0   \n",
       "4        US  Much like the regular bottling from 2012, this...      87   65.0   \n",
       "\n",
       "          variety               winery  \n",
       "0     White Blend              Nicosia  \n",
       "1  Portuguese Red  Quinta dos Avidagos  \n",
       "2      Pinot Gris            Rainstorm  \n",
       "3        Riesling           St. Julian  \n",
       "4      Pinot Noir         Sweet Cheeks  "
      ]
     },
     "execution_count": 3,
     "metadata": {},
     "output_type": "execute_result"
    }
   ],
   "source": [
    "colnames=['country', 'description', 'points', 'price', 'variety', 'winery']\n",
    "df = pd.read_csv(\"../datasets/wine-reviews.csv\", usecols=colnames)\n",
    "df.info()\n",
    "df.head()"
   ]
  },
  {
   "cell_type": "code",
   "execution_count": 4,
   "metadata": {
    "executionInfo": {
     "elapsed": 262,
     "status": "ok",
     "timestamp": 1731137223028,
     "user": {
      "displayName": "Rob Lockhart",
      "userId": "01044438973033394273"
     },
     "user_tz": 0
    },
    "id": "Z4_yjWPHoZJg"
   },
   "outputs": [],
   "source": [
    "df = df.dropna(subset=[\"description\", \"points\"])"
   ]
  },
  {
   "cell_type": "code",
   "execution_count": 5,
   "metadata": {
    "colab": {
     "base_uri": "https://localhost:8080/",
     "height": 206
    },
    "executionInfo": {
     "elapsed": 241,
     "status": "ok",
     "timestamp": 1731137226941,
     "user": {
      "displayName": "Rob Lockhart",
      "userId": "01044438973033394273"
     },
     "user_tz": 0
    },
    "id": "GpiP610nsE2T",
    "outputId": "6018a3fb-a5ec-41e7-d5eb-407b8789772d"
   },
   "outputs": [
    {
     "data": {
      "text/html": [
       "<div>\n",
       "<style scoped>\n",
       "    .dataframe tbody tr th:only-of-type {\n",
       "        vertical-align: middle;\n",
       "    }\n",
       "\n",
       "    .dataframe tbody tr th {\n",
       "        vertical-align: top;\n",
       "    }\n",
       "\n",
       "    .dataframe thead th {\n",
       "        text-align: right;\n",
       "    }\n",
       "</style>\n",
       "<table border=\"1\" class=\"dataframe\">\n",
       "  <thead>\n",
       "    <tr style=\"text-align: right;\">\n",
       "      <th></th>\n",
       "      <th>country</th>\n",
       "      <th>description</th>\n",
       "      <th>points</th>\n",
       "      <th>price</th>\n",
       "      <th>variety</th>\n",
       "      <th>winery</th>\n",
       "    </tr>\n",
       "  </thead>\n",
       "  <tbody>\n",
       "    <tr>\n",
       "      <th>0</th>\n",
       "      <td>Italy</td>\n",
       "      <td>Aromas include tropical fruit, broom, brimston...</td>\n",
       "      <td>87</td>\n",
       "      <td>NaN</td>\n",
       "      <td>White Blend</td>\n",
       "      <td>Nicosia</td>\n",
       "    </tr>\n",
       "    <tr>\n",
       "      <th>1</th>\n",
       "      <td>Portugal</td>\n",
       "      <td>This is ripe and fruity, a wine that is smooth...</td>\n",
       "      <td>87</td>\n",
       "      <td>15.0</td>\n",
       "      <td>Portuguese Red</td>\n",
       "      <td>Quinta dos Avidagos</td>\n",
       "    </tr>\n",
       "    <tr>\n",
       "      <th>2</th>\n",
       "      <td>US</td>\n",
       "      <td>Tart and snappy, the flavors of lime flesh and...</td>\n",
       "      <td>87</td>\n",
       "      <td>14.0</td>\n",
       "      <td>Pinot Gris</td>\n",
       "      <td>Rainstorm</td>\n",
       "    </tr>\n",
       "    <tr>\n",
       "      <th>3</th>\n",
       "      <td>US</td>\n",
       "      <td>Pineapple rind, lemon pith and orange blossom ...</td>\n",
       "      <td>87</td>\n",
       "      <td>13.0</td>\n",
       "      <td>Riesling</td>\n",
       "      <td>St. Julian</td>\n",
       "    </tr>\n",
       "    <tr>\n",
       "      <th>4</th>\n",
       "      <td>US</td>\n",
       "      <td>Much like the regular bottling from 2012, this...</td>\n",
       "      <td>87</td>\n",
       "      <td>65.0</td>\n",
       "      <td>Pinot Noir</td>\n",
       "      <td>Sweet Cheeks</td>\n",
       "    </tr>\n",
       "  </tbody>\n",
       "</table>\n",
       "</div>"
      ],
      "text/plain": [
       "    country                                        description  points  price  \\\n",
       "0     Italy  Aromas include tropical fruit, broom, brimston...      87    NaN   \n",
       "1  Portugal  This is ripe and fruity, a wine that is smooth...      87   15.0   \n",
       "2        US  Tart and snappy, the flavors of lime flesh and...      87   14.0   \n",
       "3        US  Pineapple rind, lemon pith and orange blossom ...      87   13.0   \n",
       "4        US  Much like the regular bottling from 2012, this...      87   65.0   \n",
       "\n",
       "          variety               winery  \n",
       "0     White Blend              Nicosia  \n",
       "1  Portuguese Red  Quinta dos Avidagos  \n",
       "2      Pinot Gris            Rainstorm  \n",
       "3        Riesling           St. Julian  \n",
       "4      Pinot Noir         Sweet Cheeks  "
      ]
     },
     "execution_count": 5,
     "metadata": {},
     "output_type": "execute_result"
    }
   ],
   "source": [
    "df.head()"
   ]
  },
  {
   "cell_type": "code",
   "execution_count": 6,
   "metadata": {
    "colab": {
     "base_uri": "https://localhost:8080/",
     "height": 472
    },
    "executionInfo": {
     "elapsed": 525,
     "status": "ok",
     "timestamp": 1731137230063,
     "user": {
      "displayName": "Rob Lockhart",
      "userId": "01044438973033394273"
     },
     "user_tz": 0
    },
    "id": "InQaNSQFsH00",
    "outputId": "4b0741f1-bde1-424c-d673-f2da88b5243f"
   },
   "outputs": [
    {
     "data": {
      "image/png": "[encoded data removed]",
      "text/plain": [
       "<Figure size 640x480 with 1 Axes>"
      ]
     },
     "metadata": {},
     "output_type": "display_data"
    }
   ],
   "source": [
    "plt.hist(df.points, bins=20)\n",
    "plt.title('Points histogram')\n",
    "plt.ylabel ('N')\n",
    "plt.xlabel('Points')\n",
    "plt.show()"
   ]
  },
  {
   "cell_type": "markdown",
   "metadata": {
    "id": "ziGklLp1tUI1"
   },
   "source": [
    "# define quality label for wine"
   ]
  },
  {
   "cell_type": "code",
   "execution_count": 7,
   "metadata": {
    "executionInfo": {
     "elapsed": 251,
     "status": "ok",
     "timestamp": 1731137240321,
     "user": {
      "displayName": "Rob Lockhart",
      "userId": "01044438973033394273"
     },
     "user_tz": 0
    },
    "id": "eQO-dnznsihB"
   },
   "outputs": [],
   "source": [
    "df['label'] = (df.points > 90).astype(int)\n",
    "df = df[['description', 'label']]"
   ]
  },
  {
   "cell_type": "code",
   "execution_count": 8,
   "metadata": {
    "colab": {
     "base_uri": "https://localhost:8080/"
    },
    "executionInfo": {
     "elapsed": 279,
     "status": "ok",
     "timestamp": 1731137242554,
     "user": {
      "displayName": "Rob Lockhart",
      "userId": "01044438973033394273"
     },
     "user_tz": 0
    },
    "id": "EcK7HeEEuISM",
    "outputId": "f3da8df4-91cc-48a0-9122-466dd15971c8"
   },
   "outputs": [
    {
     "data": {
      "text/plain": [
       "(33635, 96336)"
      ]
     },
     "execution_count": 8,
     "metadata": {},
     "output_type": "execute_result"
    }
   ],
   "source": [
    "len(df[df[\"label\"] == 1]), len(df[df[\"label\"] == 0]),"
   ]
  },
  {
   "cell_type": "code",
   "execution_count": 9,
   "metadata": {
    "colab": {
     "base_uri": "https://localhost:8080/",
     "height": 206
    },
    "executionInfo": {
     "elapsed": 265,
     "status": "ok",
     "timestamp": 1731137244734,
     "user": {
      "displayName": "Rob Lockhart",
      "userId": "01044438973033394273"
     },
     "user_tz": 0
    },
    "id": "Z5Q7fv7HuNrN",
    "outputId": "0238da18-d05f-4b12-8177-af4228074905"
   },
   "outputs": [
    {
     "data": {
      "text/html": [
       "<div>\n",
       "<style scoped>\n",
       "    .dataframe tbody tr th:only-of-type {\n",
       "        vertical-align: middle;\n",
       "    }\n",
       "\n",
       "    .dataframe tbody tr th {\n",
       "        vertical-align: top;\n",
       "    }\n",
       "\n",
       "    .dataframe thead th {\n",
       "        text-align: right;\n",
       "    }\n",
       "</style>\n",
       "<table border=\"1\" class=\"dataframe\">\n",
       "  <thead>\n",
       "    <tr style=\"text-align: right;\">\n",
       "      <th></th>\n",
       "      <th>description</th>\n",
       "      <th>label</th>\n",
       "    </tr>\n",
       "  </thead>\n",
       "  <tbody>\n",
       "    <tr>\n",
       "      <th>0</th>\n",
       "      <td>Aromas include tropical fruit, broom, brimston...</td>\n",
       "      <td>0</td>\n",
       "    </tr>\n",
       "    <tr>\n",
       "      <th>1</th>\n",
       "      <td>This is ripe and fruity, a wine that is smooth...</td>\n",
       "      <td>0</td>\n",
       "    </tr>\n",
       "    <tr>\n",
       "      <th>2</th>\n",
       "      <td>Tart and snappy, the flavors of lime flesh and...</td>\n",
       "      <td>0</td>\n",
       "    </tr>\n",
       "    <tr>\n",
       "      <th>3</th>\n",
       "      <td>Pineapple rind, lemon pith and orange blossom ...</td>\n",
       "      <td>0</td>\n",
       "    </tr>\n",
       "    <tr>\n",
       "      <th>4</th>\n",
       "      <td>Much like the regular bottling from 2012, this...</td>\n",
       "      <td>0</td>\n",
       "    </tr>\n",
       "  </tbody>\n",
       "</table>\n",
       "</div>"
      ],
      "text/plain": [
       "                                         description  label\n",
       "0  Aromas include tropical fruit, broom, brimston...      0\n",
       "1  This is ripe and fruity, a wine that is smooth...      0\n",
       "2  Tart and snappy, the flavors of lime flesh and...      0\n",
       "3  Pineapple rind, lemon pith and orange blossom ...      0\n",
       "4  Much like the regular bottling from 2012, this...      0"
      ]
     },
     "execution_count": 9,
     "metadata": {},
     "output_type": "execute_result"
    }
   ],
   "source": [
    "df.head()"
   ]
  },
  {
   "cell_type": "code",
   "execution_count": 10,
   "metadata": {
    "colab": {
     "base_uri": "https://localhost:8080/",
     "height": 206
    },
    "executionInfo": {
     "elapsed": 265,
     "status": "ok",
     "timestamp": 1731137247743,
     "user": {
      "displayName": "Rob Lockhart",
      "userId": "01044438973033394273"
     },
     "user_tz": 0
    },
    "id": "VJ3NPjpTvVLv",
    "outputId": "6502f9f3-b1d8-442d-c2fe-01fd5f254e0f"
   },
   "outputs": [
    {
     "data": {
      "text/html": [
       "<div>\n",
       "<style scoped>\n",
       "    .dataframe tbody tr th:only-of-type {\n",
       "        vertical-align: middle;\n",
       "    }\n",
       "\n",
       "    .dataframe tbody tr th {\n",
       "        vertical-align: top;\n",
       "    }\n",
       "\n",
       "    .dataframe thead th {\n",
       "        text-align: right;\n",
       "    }\n",
       "</style>\n",
       "<table border=\"1\" class=\"dataframe\">\n",
       "  <thead>\n",
       "    <tr style=\"text-align: right;\">\n",
       "      <th></th>\n",
       "      <th>description</th>\n",
       "      <th>label</th>\n",
       "    </tr>\n",
       "  </thead>\n",
       "  <tbody>\n",
       "    <tr>\n",
       "      <th>129966</th>\n",
       "      <td>Notes of honeysuckle and cantaloupe sweeten th...</td>\n",
       "      <td>0</td>\n",
       "    </tr>\n",
       "    <tr>\n",
       "      <th>129967</th>\n",
       "      <td>Citation is given as much as a decade of bottl...</td>\n",
       "      <td>0</td>\n",
       "    </tr>\n",
       "    <tr>\n",
       "      <th>129968</th>\n",
       "      <td>Well-drained gravel soil gives this wine its c...</td>\n",
       "      <td>0</td>\n",
       "    </tr>\n",
       "    <tr>\n",
       "      <th>129969</th>\n",
       "      <td>A dry style of Pinot Gris, this is crisp with ...</td>\n",
       "      <td>0</td>\n",
       "    </tr>\n",
       "    <tr>\n",
       "      <th>129970</th>\n",
       "      <td>Big, rich and off-dry, this is powered by inte...</td>\n",
       "      <td>0</td>\n",
       "    </tr>\n",
       "  </tbody>\n",
       "</table>\n",
       "</div>"
      ],
      "text/plain": [
       "                                              description  label\n",
       "129966  Notes of honeysuckle and cantaloupe sweeten th...      0\n",
       "129967  Citation is given as much as a decade of bottl...      0\n",
       "129968  Well-drained gravel soil gives this wine its c...      0\n",
       "129969  A dry style of Pinot Gris, this is crisp with ...      0\n",
       "129970  Big, rich and off-dry, this is powered by inte...      0"
      ]
     },
     "execution_count": 10,
     "metadata": {},
     "output_type": "execute_result"
    }
   ],
   "source": [
    "df.tail()"
   ]
  },
  {
   "cell_type": "markdown",
   "metadata": {
    "id": "ycnkXv9MvjIG"
   },
   "source": [
    "# split into datasets"
   ]
  },
  {
   "cell_type": "code",
   "execution_count": 11,
   "metadata": {
    "colab": {
     "base_uri": "https://localhost:8080/"
    },
    "executionInfo": {
     "elapsed": 241,
     "status": "ok",
     "timestamp": 1731137251917,
     "user": {
      "displayName": "Rob Lockhart",
      "userId": "01044438973033394273"
     },
     "user_tz": 0
    },
    "id": "nRwsAmWkvl0o",
    "outputId": "523d0385-45e7-4441-d7d6-dbaa4cc0f805"
   },
   "outputs": [
    {
     "name": "stderr",
     "output_type": "stream",
     "text": [
      "/home/heidless/miniconda3/envs/ml_db/lib/python3.11/site-packages/numpy/core/fromnumeric.py:59: FutureWarning: 'DataFrame.swapaxes' is deprecated and will be removed in a future version. Please use 'DataFrame.transpose' instead.\n",
      "  return bound(*args, **kwds)\n"
     ]
    }
   ],
   "source": [
    "train, val, test = np.split(df.sample(frac=1), [int(0.8*len(df)), int(0.9*len(df))])"
   ]
  },
  {
   "cell_type": "code",
   "execution_count": 12,
   "metadata": {
    "colab": {
     "base_uri": "https://localhost:8080/"
    },
    "executionInfo": {
     "elapsed": 246,
     "status": "ok",
     "timestamp": 1731137253722,
     "user": {
      "displayName": "Rob Lockhart",
      "userId": "01044438973033394273"
     },
     "user_tz": 0
    },
    "id": "6AvfOnK0w7XG",
    "outputId": "47143ef1-81b2-4b03-96c5-59ef625a6cfd"
   },
   "outputs": [
    {
     "data": {
      "text/plain": [
       "(103976, 12997, 12998)"
      ]
     },
     "execution_count": 12,
     "metadata": {},
     "output_type": "execute_result"
    }
   ],
   "source": [
    "len(train), len(val), len(test),"
   ]
  },
  {
   "cell_type": "code",
   "execution_count": 13,
   "metadata": {
    "executionInfo": {
     "elapsed": 240,
     "status": "ok",
     "timestamp": 1731137255505,
     "user": {
      "displayName": "Rob Lockhart",
      "userId": "01044438973033394273"
     },
     "user_tz": 0
    },
    "id": "x1cenZG4x4Mk"
   },
   "outputs": [],
   "source": [
    "def df_to_dataset(dataframe, shuffle=True, batch_size=1024):\n",
    "  df = dataframe.copy()\n",
    "  labels = df.pop('label')\n",
    "  df = df[\"description\"]\n",
    "  ds = tf.data.Dataset.from_tensor_slices((df, labels))\n",
    "  if shuffle:\n",
    "    ds = ds.shuffle(buffer_size=len(dataframe))\n",
    "  ds = ds.batch(batch_size)\n",
    "  ds = ds.prefetch(tf.data.AUTOTUNE)\n",
    "  return ds"
   ]
  },
  {
   "cell_type": "code",
   "execution_count": 14,
   "metadata": {
    "executionInfo": {
     "elapsed": 496,
     "status": "ok",
     "timestamp": 1731137262539,
     "user": {
      "displayName": "Rob Lockhart",
      "userId": "01044438973033394273"
     },
     "user_tz": 0
    },
    "id": "BgN8ofrL0SuA"
   },
   "outputs": [],
   "source": [
    "train_data = df_to_dataset(train)\n",
    "valid_data = df_to_dataset(val)\n",
    "test_data = df_to_dataset(test)"
   ]
  },
  {
   "cell_type": "markdown",
   "metadata": {
    "id": "0e2S2ht61kqT"
   },
   "source": [
    "# embedding + model"
   ]
  },
  {
   "cell_type": "code",
   "execution_count": 15,
   "metadata": {
    "executionInfo": {
     "elapsed": 1220,
     "status": "ok",
     "timestamp": 1731137814504,
     "user": {
      "displayName": "Rob Lockhart",
      "userId": "01044438973033394273"
     },
     "user_tz": 0
    },
    "id": "0p1E1cDs1nIP"
   },
   "outputs": [],
   "source": [
    "embedding = \"https://tfhub.dev/google/nnlm-en-dim50/2\"\n",
    "hub_layer = hub.KerasLayer(embedding, dtype=tf.string, trainable=True)"
   ]
  },
  {
   "cell_type": "code",
   "execution_count": 16,
   "metadata": {
    "colab": {
     "base_uri": "https://localhost:8080/"
    },
    "executionInfo": {
     "elapsed": 708,
     "status": "ok",
     "timestamp": 1731137822795,
     "user": {
      "displayName": "Rob Lockhart",
      "userId": "01044438973033394273"
     },
     "user_tz": 0
    },
    "id": "BaEOfYXN16sG",
    "outputId": "83b5175e-7e86-41e1-be03-aa9e4465f1d8"
   },
   "outputs": [
    {
     "data": {
      "text/plain": [
       "<tf.Tensor: shape=(1024, 50), dtype=float32, numpy=\n",
       "array([[ 0.26511788, -0.15988895,  0.06163435, ..., -0.15192316,\n",
       "        -0.2868969 , -0.00665556],\n",
       "       [ 0.2691426 , -0.39794314,  0.18778875, ...,  0.08330052,\n",
       "        -0.15718412, -0.07425858],\n",
       "       [ 0.32076272, -0.27701393,  0.0608661 , ..., -0.13132866,\n",
       "        -0.3782253 ,  0.1171029 ],\n",
       "       ...,\n",
       "       [ 0.5426136 , -0.29652554, -0.07007001, ...,  0.15911573,\n",
       "        -0.09481753, -0.17346977],\n",
       "       [ 0.30325207, -0.36143687,  0.03716294, ..., -0.04390262,\n",
       "         0.07354113,  0.01301692],\n",
       "       [ 0.29183728,  0.12087911, -0.17514381, ..., -0.11805996,\n",
       "        -0.01504651,  0.07094739]], dtype=float32)>"
      ]
     },
     "execution_count": 16,
     "metadata": {},
     "output_type": "execute_result"
    }
   ],
   "source": [
    "hub_layer(list(train_data)[0][0])"
   ]
  },
  {
   "cell_type": "markdown",
   "metadata": {
    "executionInfo": {
     "elapsed": 4,
     "status": "ok",
     "timestamp": 1731137958671,
     "user": {
      "displayName": "Rob Lockhart",
      "userId": "01044438973033394273"
     },
     "user_tz": 0
    },
    "id": "wn0MYMtZ5DSV"
   },
   "source": [
    "## create model"
   ]
  },
  {
   "cell_type": "code",
   "execution_count": 43,
   "metadata": {
    "executionInfo": {
     "elapsed": 293,
     "status": "ok",
     "timestamp": 1731137957622,
     "user": {
      "displayName": "Rob Lockhart",
      "userId": "01044438973033394273"
     },
     "user_tz": 0
    },
    "id": "jea-OY4819oQ"
   },
   "outputs": [],
   "source": [
    "def create_model():\n",
    "    model = tf.keras.Sequential()\n",
    "    model.add(hub_layer)\n",
    "    model.add(tf.keras.layers.Dense(16, activation='relu'))\n",
    "    model.add(tf.keras.layers.Dropout(0.4))\n",
    "    model.add(tf.keras.layers.Dense(16, activation='relu'))\n",
    "    model.add(tf.keras.layers.Dropout(0.4))\n",
    "    model.add(tf.keras.layers.Dense(1, activation='sigmoid'))\n",
    "\n",
    "    model.compile(optimizer=tf.keras.optimizers.Adam(learning_rate=0.001),\n",
    "              loss=tf.keras.losses.BinaryCrossentropy(),\n",
    "              metrics=['accuracy'])\n",
    "\n",
    "    return model\n",
    "    \n",
    "# Display the model's architecture\n",
    "# model.summary()"
   ]
  },
  {
   "cell_type": "markdown",
   "metadata": {},
   "source": [
    "# instantiate MODEL"
   ]
  },
  {
   "cell_type": "code",
   "execution_count": 44,
   "metadata": {},
   "outputs": [],
   "source": [
    "# Create a basic model instance\n",
    "model_FF = create_model()"
   ]
  },
  {
   "cell_type": "code",
   "execution_count": 45,
   "metadata": {
    "colab": {
     "base_uri": "https://localhost:8080/"
    },
    "executionInfo": {
     "elapsed": 3062,
     "status": "ok",
     "timestamp": 1731137962578,
     "user": {
      "displayName": "Rob Lockhart",
      "userId": "01044438973033394273"
     },
     "user_tz": 0
    },
    "id": "jHrtFo5t2CRj",
    "outputId": "5db6b806-bb49-47a5-dc38-241f82996be2"
   },
   "outputs": [
    {
     "name": "stdout",
     "output_type": "stream",
     "text": [
      "102/102 [==============================] - 5s 46ms/step - loss: 0.6956 - accuracy: 0.4788\n"
     ]
    },
    {
     "data": {
      "text/plain": [
       "[0.6956065893173218, 0.47880280017852783]"
      ]
     },
     "execution_count": 45,
     "metadata": {},
     "output_type": "execute_result"
    }
   ],
   "source": [
    "model_FF.evaluate(train_data)"
   ]
  },
  {
   "cell_type": "code",
   "execution_count": 46,
   "metadata": {
    "colab": {
     "base_uri": "https://localhost:8080/"
    },
    "executionInfo": {
     "elapsed": 255,
     "status": "ok",
     "timestamp": 1731137962824,
     "user": {
      "displayName": "Rob Lockhart",
      "userId": "01044438973033394273"
     },
     "user_tz": 0
    },
    "id": "_o_UsnzZ6-gg",
    "outputId": "7c694b07-6693-498a-e35a-deb0f6eea84f"
   },
   "outputs": [
    {
     "name": "stdout",
     "output_type": "stream",
     "text": [
      "13/13 [==============================] - 1s 50ms/step - loss: 0.7583 - accuracy: 0.2615\n"
     ]
    },
    {
     "data": {
      "text/plain": [
       "[0.7583044171333313, 0.2615218758583069]"
      ]
     },
     "execution_count": 46,
     "metadata": {},
     "output_type": "execute_result"
    }
   ],
   "source": [
    "model.evaluate(valid_data)"
   ]
  },
  {
   "cell_type": "code",
   "execution_count": 47,
   "metadata": {},
   "outputs": [],
   "source": [
    "# # checkpoint_path = \"wine_0/cp.weights.h5\" # If you're saving the whole model, you would use the .keras extension instead\n",
    "# checkpoint_path = \"wine_0/cp.keras\"\n",
    "# # checkpoint_path = \"wine_0/cp-{epoch:04d}.keras\"\n",
    "\n",
    "# checkpoint_dir = os.path.dirname(checkpoint_path)\n",
    "\n",
    "# # Create a callback that saves the model's weights\n",
    "# cp_callback = tf.keras.callbacks.ModelCheckpoint(filepath=checkpoint_path,\n",
    "#                                                  save_weights_only=True,\n",
    "#                                                  verbose=1)"
   ]
  },
  {
   "cell_type": "code",
   "execution_count": 48,
   "metadata": {},
   "outputs": [],
   "source": [
    "# # checkpoint_path = \"wine_0/cp.weights.h5\" # If you're saving the whole model, you would use the .keras extension instead\n",
    "# checkpoint_path = \"./wine_0/cp.keras\"\n",
    "# # checkpoint_path = \"wine_0/cp-{epoch:04d}.keras\"\n"
   ]
  },
  {
   "cell_type": "markdown",
   "metadata": {},
   "source": [
    "## checkpoint callback - FASTFORWARD"
   ]
  },
  {
   "cell_type": "code",
   "execution_count": 49,
   "metadata": {},
   "outputs": [
    {
     "name": "stdout",
     "output_type": "stream",
     "text": [
      "Epoch 1/10\n",
      "102/102 [==============================] - ETA: 0s - loss: 0.5122 - accuracy: 0.7595\n",
      "Epoch 1: saving model to savefiles/cp_ff.weights.h5\n",
      "102/102 [==============================] - 63s 607ms/step - loss: 0.5122 - accuracy: 0.7595 - val_loss: 0.3633 - val_accuracy: 0.8385\n",
      "Epoch 2/10\n",
      "102/102 [==============================] - ETA: 0s - loss: 0.3250 - accuracy: 0.8597\n",
      "Epoch 2: saving model to savefiles/cp_ff.weights.h5\n",
      "102/102 [==============================] - 62s 605ms/step - loss: 0.3250 - accuracy: 0.8597 - val_loss: 0.3485 - val_accuracy: 0.8347\n",
      "Epoch 3/10\n",
      "102/102 [==============================] - ETA: 0s - loss: 0.2711 - accuracy: 0.8848\n",
      "Epoch 3: saving model to savefiles/cp_ff.weights.h5\n",
      "102/102 [==============================] - 61s 602ms/step - loss: 0.2711 - accuracy: 0.8848 - val_loss: 0.3716 - val_accuracy: 0.8420\n",
      "Epoch 4/10\n",
      "102/102 [==============================] - ETA: 0s - loss: 0.2412 - accuracy: 0.8976\n",
      "Epoch 4: saving model to savefiles/cp_ff.weights.h5\n",
      "102/102 [==============================] - 61s 602ms/step - loss: 0.2412 - accuracy: 0.8976 - val_loss: 0.3894 - val_accuracy: 0.8411\n",
      "Epoch 5/10\n",
      "102/102 [==============================] - ETA: 0s - loss: 0.2226 - accuracy: 0.9054\n",
      "Epoch 5: saving model to savefiles/cp_ff.weights.h5\n",
      "102/102 [==============================] - 62s 607ms/step - loss: 0.2226 - accuracy: 0.9054 - val_loss: 0.4268 - val_accuracy: 0.8411\n",
      "Epoch 6/10\n",
      "102/102 [==============================] - ETA: 0s - loss: 0.2074 - accuracy: 0.9124\n",
      "Epoch 6: saving model to savefiles/cp_ff.weights.h5\n",
      "102/102 [==============================] - 61s 601ms/step - loss: 0.2074 - accuracy: 0.9124 - val_loss: 0.4637 - val_accuracy: 0.8397\n",
      "Epoch 7/10\n",
      "102/102 [==============================] - ETA: 0s - loss: 0.1965 - accuracy: 0.9177\n",
      "Epoch 7: saving model to savefiles/cp_ff.weights.h5\n",
      "102/102 [==============================] - 62s 605ms/step - loss: 0.1965 - accuracy: 0.9177 - val_loss: 0.5044 - val_accuracy: 0.8408\n",
      "Epoch 8/10\n",
      "102/102 [==============================] - ETA: 0s - loss: 0.1878 - accuracy: 0.9205\n",
      "Epoch 8: saving model to savefiles/cp_ff.weights.h5\n",
      "102/102 [==============================] - 61s 600ms/step - loss: 0.1878 - accuracy: 0.9205 - val_loss: 0.5380 - val_accuracy: 0.8400\n",
      "Epoch 9/10\n",
      "102/102 [==============================] - ETA: 0s - loss: 0.1805 - accuracy: 0.9229\n",
      "Epoch 9: saving model to savefiles/cp_ff.weights.h5\n",
      "102/102 [==============================] - 62s 605ms/step - loss: 0.1805 - accuracy: 0.9229 - val_loss: 0.5699 - val_accuracy: 0.8383\n",
      "Epoch 10/10\n",
      "102/102 [==============================] - ETA: 0s - loss: 0.1726 - accuracy: 0.9265\n",
      "Epoch 10: saving model to savefiles/cp_ff.weights.h5\n",
      "102/102 [==============================] - 62s 604ms/step - loss: 0.1726 - accuracy: 0.9265 - val_loss: 0.5882 - val_accuracy: 0.8383\n"
     ]
    }
   ],
   "source": [
    "checkpoint_path = \"savefiles/cp_ff.weights.h5\" # If you're saving the whole model, you would use the .keras extension instead\n",
    "# checkpoint_path = \"wine_0/cp.keras\"\n",
    "# checkpoint_path = \"wine_0/cp-{epoch:04d}.keras\"\n",
    "checkpoint_dir = os.path.dirname(checkpoint_path)\n",
    "num_epochs=10\n",
    "\n",
    "# Create a callback that saves the model's weights\n",
    "cp_callback = tf.keras.callbacks.ModelCheckpoint(filepath=checkpoint_path,\n",
    "                                                 save_weights_only=True,\n",
    "                                                 verbose=1)\n",
    "# Train the model with the new callback\n",
    "history = model_FF.fit(\n",
    "    train_data, \n",
    "    epochs=num_epochs, \n",
    "    validation_data=valid_data,\n",
    "    callbacks=[cp_callback],\n",
    "    verbose=1)"
   ]
  },
  {
   "cell_type": "code",
   "execution_count": 50,
   "metadata": {
    "colab": {
     "base_uri": "https://localhost:8080/"
    },
    "executionInfo": {
     "elapsed": 835804,
     "status": "ok",
     "timestamp": 1731138800655,
     "user": {
      "displayName": "Rob Lockhart",
      "userId": "01044438973033394273"
     },
     "user_tz": 0
    },
    "id": "mD6u_IMl2TFV",
    "outputId": "101f3980-6c37-4a6a-e2da-8daf96ffb10c"
   },
   "outputs": [],
   "source": [
    "#history = model.fit(train_data, epochs=5, validation_data=valid_data)"
   ]
  },
  {
   "cell_type": "code",
   "execution_count": 51,
   "metadata": {},
   "outputs": [],
   "source": [
    "# model.save(\"trained-models/ml_wine_reviews_FEEDFORWARD_0.keras\")"
   ]
  },
  {
   "cell_type": "code",
   "execution_count": 52,
   "metadata": {},
   "outputs": [],
   "source": [
    "model.save(\"savefiles/cp-FEEDFORWARD.keras\")"
   ]
  },
  {
   "cell_type": "markdown",
   "metadata": {},
   "source": [
    "# test RELOAD of FEEDFORWARD saved model"
   ]
  },
  {
   "cell_type": "markdown",
   "metadata": {},
   "source": [
    "## create NEW Untrained Model"
   ]
  },
  {
   "cell_type": "code",
   "execution_count": 58,
   "metadata": {},
   "outputs": [
    {
     "name": "stdout",
     "output_type": "stream",
     "text": [
      "102/102 - 5s - loss: 0.6661 - accuracy: 0.7332 - 5s/epoch - 47ms/step\n",
      "Untrained model, accuracy: 73.32%\n"
     ]
    }
   ],
   "source": [
    "model_LOAD = create_model()\n",
    "\n",
    "# Evaluate the model\n",
    "loss, acc = model_LOAD.evaluate(train_data, verbose=2)\n",
    "print(\"Untrained model, accuracy: {:5.2f}%\".format(100 * acc))"
   ]
  },
  {
   "cell_type": "code",
   "execution_count": 59,
   "metadata": {},
   "outputs": [],
   "source": [
    "# checkpoint_path\n",
    "# !pwd"
   ]
  },
  {
   "cell_type": "code",
   "execution_count": 60,
   "metadata": {},
   "outputs": [
    {
     "name": "stderr",
     "output_type": "stream",
     "text": [
      "WARNING:absl:Skipping variable loading for optimizer 'Adam', because it has 1 variables whereas the saved optimizer has 15 variables. \n"
     ]
    },
    {
     "name": "stdout",
     "output_type": "stream",
     "text": [
      "102/102 - 5s - loss: 0.1389 - accuracy: 0.9415 - 5s/epoch - 45ms/step\n",
      "Untrained model, accuracy: 94.15%\n"
     ]
    }
   ],
   "source": [
    "# Loads the weights\n",
    "# model.load(checkpoint_path)\n",
    "loaded_model = model_LOAD.load_weights(checkpoint_path)\n",
    "\n",
    "# Evaluate the model\n",
    "loss, acc = model_LOAD.evaluate(train_data, verbose=2)\n",
    "print(\"Untrained model, accuracy: {:5.2f}%\".format(100 * acc))\n",
    "\n",
    "# loaded_model = tf.keras.models.load_model('/home/heidless/projects/heidless-python/dataSci-APPS-2/sandbox/tensorflow-classification/admin/wine_0/cp.keras')"
   ]
  },
  {
   "cell_type": "markdown",
   "metadata": {},
   "source": [
    "# plot Accuracy"
   ]
  },
  {
   "cell_type": "code",
   "execution_count": 61,
   "metadata": {
    "colab": {
     "base_uri": "https://localhost:8080/",
     "height": 472
    },
    "executionInfo": {
     "elapsed": 852,
     "status": "ok",
     "timestamp": 1731139361222,
     "user": {
      "displayName": "Rob Lockhart",
      "userId": "01044438973033394273"
     },
     "user_tz": 0
    },
    "id": "YCT1SPck6lC9",
    "outputId": "758ec689-a274-4ba5-8400-95d0459a8ba5"
   },
   "outputs": [
    {
     "data": {
      "image/png": "[encoded data removed]",
      "text/plain": [
       "<Figure size 640x480 with 1 Axes>"
      ]
     },
     "metadata": {},
     "output_type": "display_data"
    }
   ],
   "source": [
    "plt.plot(history.history['accuracy'], label=\"Training accuracy\")\n",
    "plt.plot(history.history['val_accuracy'], label=\"Validation accuracy\")\n",
    "plt.title(\"Accuracy of Model\")\n",
    "plt.ylabel(\"Accuracy\")\n",
    "plt.xlabel(\"Epoch\")\n",
    "plt.legend()\n",
    "plt.show()"
   ]
  },
  {
   "cell_type": "markdown",
   "metadata": {},
   "source": [
    "# plot LOSS"
   ]
  },
  {
   "cell_type": "code",
   "execution_count": 62,
   "metadata": {
    "colab": {
     "base_uri": "https://localhost:8080/",
     "height": 472
    },
    "executionInfo": {
     "elapsed": 587,
     "status": "ok",
     "timestamp": 1731139490883,
     "user": {
      "displayName": "Rob Lockhart",
      "userId": "01044438973033394273"
     },
     "user_tz": 0
    },
    "id": "_1q98V_C84fy",
    "outputId": "6dc18829-426b-4aad-cb47-c1831a054e05"
   },
   "outputs": [
    {
     "data": {
      "image/png": "[encoded data removed]",
      "text/plain": [
       "<Figure size 640x480 with 1 Axes>"
      ]
     },
     "metadata": {},
     "output_type": "display_data"
    }
   ],
   "source": [
    "plt.plot(history.history['loss'], label=\"Training loss\")\n",
    "plt.plot(history.history['val_loss'], label=\"Validation loss\")\n",
    "plt.title(\"Loss of Model\")\n",
    "plt.ylabel(\"Loss\")\n",
    "plt.xlabel(\"Epoch\")\n",
    "plt.legend()\n",
    "plt.show()"
   ]
  },
  {
   "cell_type": "code",
   "execution_count": 63,
   "metadata": {
    "colab": {
     "base_uri": "https://localhost:8080/"
    },
    "executionInfo": {
     "elapsed": 3757,
     "status": "ok",
     "timestamp": 1731139605011,
     "user": {
      "displayName": "Rob Lockhart",
      "userId": "01044438973033394273"
     },
     "user_tz": 0
    },
    "id": "UZPpClf029Z7",
    "outputId": "80f648f1-a9b3-4f3e-a455-5ef84301b043"
   },
   "outputs": [
    {
     "name": "stdout",
     "output_type": "stream",
     "text": [
      "13/13 - 1s - loss: 0.7826 - accuracy: 0.2606 - 636ms/epoch - 49ms/step\n",
      "Test Data, accuracy: 26.06%\n"
     ]
    }
   ],
   "source": [
    "# Evaluate the model\n",
    "loss, acc = model.evaluate(test_data, verbose=2)\n",
    "print(\"Test Data, accuracy: {:5.2f}%\".format(100 * acc))"
   ]
  },
  {
   "cell_type": "markdown",
   "metadata": {
    "id": "b3EPIOH_3AO0"
   },
   "source": [
    "# LSTM"
   ]
  },
  {
   "cell_type": "code",
   "execution_count": 70,
   "metadata": {
    "executionInfo": {
     "elapsed": 2084,
     "status": "ok",
     "timestamp": 1731139819279,
     "user": {
      "displayName": "Rob Lockhart",
      "userId": "01044438973033394273"
     },
     "user_tz": 0
    },
    "id": "KU-cAgSeLHMC"
   },
   "outputs": [],
   "source": [
    "encoder = tf.keras.layers.TextVectorization(max_tokens=2000)\n",
    "encoder.adapt(train_data.map(lambda text, label: text))"
   ]
  },
  {
   "cell_type": "code",
   "execution_count": 71,
   "metadata": {
    "colab": {
     "base_uri": "https://localhost:8080/"
    },
    "executionInfo": {
     "elapsed": 276,
     "status": "ok",
     "timestamp": 1731139822431,
     "user": {
      "displayName": "Rob Lockhart",
      "userId": "01044438973033394273"
     },
     "user_tz": 0
    },
    "id": "i-x1etvHLOsL",
    "outputId": "38410bbf-9996-4a60-9b77-f88d44825adf"
   },
   "outputs": [
    {
     "data": {
      "text/plain": [
       "array(['', '[UNK]', 'and', 'the', 'a', 'of', 'with', 'this', 'is', 'wine',\n",
       "       'flavors', 'in', 'it', 'to', 'its', 'on', 'fruit', 'aromas',\n",
       "       'palate', 'that'], dtype='<U17')"
      ]
     },
     "execution_count": 71,
     "metadata": {},
     "output_type": "execute_result"
    }
   ],
   "source": [
    "vocab = np.array(encoder.get_vocabulary())\n",
    "vocab[:20]"
   ]
  },
  {
   "cell_type": "code",
   "execution_count": 72,
   "metadata": {
    "executionInfo": {
     "elapsed": 293,
     "status": "ok",
     "timestamp": 1731139861408,
     "user": {
      "displayName": "Rob Lockhart",
      "userId": "01044438973033394273"
     },
     "user_tz": 0
    },
    "id": "uCsCw_qbLV0Y"
   },
   "outputs": [],
   "source": [
    "model_LSTM = create_model()"
   ]
  },
  {
   "cell_type": "code",
   "execution_count": 73,
   "metadata": {
    "colab": {
     "base_uri": "https://localhost:8080/"
    },
    "executionInfo": {
     "elapsed": 19028,
     "status": "ok",
     "timestamp": 1731140014204,
     "user": {
      "displayName": "Rob Lockhart",
      "userId": "01044438973033394273"
     },
     "user_tz": 0
    },
    "id": "ykeoot6fLfD1",
    "outputId": "718d5452-6ece-48ce-ad21-182b87ca7102"
   },
   "outputs": [
    {
     "name": "stdout",
     "output_type": "stream",
     "text": [
      "102/102 - 5s - loss: 0.7444 - accuracy: 0.3120 - 5s/epoch - 45ms/step\n",
      "Train Data, accuracy: 31.20%\n",
      "13/13 - -1s - loss: 0.7926 - accuracy: 0.2622 - -993885us/epoch - -76453us/step\n",
      "Valid Data, accuracy: 26.22%\n"
     ]
    }
   ],
   "source": [
    "# Evaluate the model\n",
    "loss, acc = model.evaluate(train_data, verbose=2)\n",
    "print(\"Train Data, accuracy: {:5.2f}%\".format(100 * acc))\n",
    "\n",
    "# Evaluate the model\n",
    "loss, acc = model_LSTM.evaluate(valid_data, verbose=2)\n",
    "print(\"Valid Data, accuracy: {:5.2f}%\".format(100 * acc))"
   ]
  },
  {
   "cell_type": "code",
   "execution_count": 35,
   "metadata": {
    "colab": {
     "base_uri": "https://localhost:8080/"
    },
    "id": "eYgVRhtdLh8m",
    "outputId": "9216b096-ca10-4b9b-b398-456cbf8993a0"
   },
   "outputs": [],
   "source": [
    "# history = model.fit(train_data, epochs=5, validation_data=valid_data)"
   ]
  },
  {
   "cell_type": "markdown",
   "metadata": {},
   "source": [
    "# configure FIT"
   ]
  },
  {
   "cell_type": "code",
   "execution_count": 74,
   "metadata": {},
   "outputs": [],
   "source": [
    "#checkpoint_path = \"wine_0/cp.keras\" # If you're saving the whole model, you would use the .keras extension instead\n",
    "# checkpoint_path = \"wine_0/cp-LSTM-{epoch:04d}.keras\"\n",
    "checkpoint_path = \"savefiles/cp-LSTM.weights.h5\"\n",
    "checkpoint_dir = os.path.dirname(checkpoint_path)\n",
    "num_epochs=10\n",
    "\n",
    "# Create a callback that saves the model's weights\n",
    "cp_callback = tf.keras.callbacks.ModelCheckpoint(filepath=checkpoint_path,\n",
    "                                                 save_weights_only=True,\n",
    "                                                 verbose=1)"
   ]
  },
  {
   "cell_type": "markdown",
   "metadata": {},
   "source": [
    "# FIT model"
   ]
  },
  {
   "cell_type": "code",
   "execution_count": 75,
   "metadata": {},
   "outputs": [
    {
     "name": "stdout",
     "output_type": "stream",
     "text": [
      "Epoch 1/10\n",
      "102/102 [==============================] - ETA: 0s - loss: 0.5691 - accuracy: 0.7040\n",
      "Epoch 1: saving model to savefiles/cp-LSTM.weights.h5\n",
      "102/102 [==============================] - 64s 616ms/step - loss: 0.5691 - accuracy: 0.7040 - val_loss: 0.3920 - val_accuracy: 0.8370\n",
      "Epoch 2/10\n",
      "102/102 [==============================] - ETA: 0s - loss: 0.3583 - accuracy: 0.8606\n",
      "Epoch 2: saving model to savefiles/cp-LSTM.weights.h5\n",
      "102/102 [==============================] - 65s 633ms/step - loss: 0.3583 - accuracy: 0.8606 - val_loss: 0.3542 - val_accuracy: 0.8416\n",
      "Epoch 3/10\n",
      "102/102 [==============================] - ETA: 0s - loss: 0.2736 - accuracy: 0.8958\n",
      "Epoch 3: saving model to savefiles/cp-LSTM.weights.h5\n",
      "102/102 [==============================] - 64s 628ms/step - loss: 0.2736 - accuracy: 0.8958 - val_loss: 0.3759 - val_accuracy: 0.8415\n",
      "Epoch 4/10\n",
      "102/102 [==============================] - ETA: 0s - loss: 0.2356 - accuracy: 0.9098\n",
      "Epoch 4: saving model to savefiles/cp-LSTM.weights.h5\n",
      "102/102 [==============================] - 62s 622ms/step - loss: 0.2356 - accuracy: 0.9098 - val_loss: 0.4174 - val_accuracy: 0.8413\n",
      "Epoch 5/10\n",
      "102/102 [==============================] - ETA: 0s - loss: 0.2156 - accuracy: 0.9167\n",
      "Epoch 5: saving model to savefiles/cp-LSTM.weights.h5\n",
      "102/102 [==============================] - 69s 675ms/step - loss: 0.2156 - accuracy: 0.9167 - val_loss: 0.4746 - val_accuracy: 0.8391\n",
      "Epoch 6/10\n",
      "102/102 [==============================] - ETA: 0s - loss: 0.2006 - accuracy: 0.9232\n",
      "Epoch 6: saving model to savefiles/cp-LSTM.weights.h5\n",
      "102/102 [==============================] - 68s 671ms/step - loss: 0.2006 - accuracy: 0.9232 - val_loss: 0.4944 - val_accuracy: 0.8390\n",
      "Epoch 7/10\n",
      "102/102 [==============================] - ETA: 0s - loss: 0.1903 - accuracy: 0.9265\n",
      "Epoch 7: saving model to savefiles/cp-LSTM.weights.h5\n",
      "102/102 [==============================] - 67s 658ms/step - loss: 0.1903 - accuracy: 0.9265 - val_loss: 0.5453 - val_accuracy: 0.8404\n",
      "Epoch 8/10\n",
      "102/102 [==============================] - ETA: 0s - loss: 0.1831 - accuracy: 0.9284\n",
      "Epoch 8: saving model to savefiles/cp-LSTM.weights.h5\n",
      "102/102 [==============================] - 69s 679ms/step - loss: 0.1831 - accuracy: 0.9284 - val_loss: 0.5848 - val_accuracy: 0.8385\n",
      "Epoch 9/10\n",
      "102/102 [==============================] - ETA: 0s - loss: 0.1754 - accuracy: 0.9311\n",
      "Epoch 9: saving model to savefiles/cp-LSTM.weights.h5\n",
      "102/102 [==============================] - 66s 645ms/step - loss: 0.1754 - accuracy: 0.9311 - val_loss: 0.6156 - val_accuracy: 0.8387\n",
      "Epoch 10/10\n",
      " 99/102 [============================>.] - ETA: 1s - loss: 0.1696 - accuracy: 0.9332\n",
      "Epoch 10: saving model to savefiles/cp-LSTM.weights.h5\n",
      "102/102 [==============================] - 65s 640ms/step - loss: 0.1696 - accuracy: 0.9332 - val_loss: 0.6489 - val_accuracy: 0.8383\n"
     ]
    }
   ],
   "source": [
    "\n",
    "# Train the model with the new callback\n",
    "history = model_LSTM.fit(\n",
    "    train_data, \n",
    "    epochs=num_epochs, \n",
    "    validation_data=valid_data,\n",
    "    callbacks=[cp_callback],\n",
    "    verbose=1)\n"
   ]
  },
  {
   "cell_type": "code",
   "execution_count": 69,
   "metadata": {
    "id": "Vs2zeSKwLs5e"
   },
   "outputs": [
    {
     "name": "stdout",
     "output_type": "stream",
     "text": [
      "13/13 - 1s - loss: 0.7417 - accuracy: 0.3160 - 644ms/epoch - 50ms/step\n",
      "Test Data, accuracy: 31.60%\n"
     ]
    }
   ],
   "source": [
    "# Evaluate the model\n",
    "loss, acc = model_LSTM.evaluate(test_data, verbose=2)\n",
    "print(\"Test Data, accuracy: {:5.2f}%\".format(100 * acc))"
   ]
  },
  {
   "cell_type": "code",
   "execution_count": 38,
   "metadata": {},
   "outputs": [],
   "source": [
    "model.save(\"savefiles/cp-LSTM.keras\")"
   ]
  },
  {
   "cell_type": "markdown",
   "metadata": {},
   "source": [
    "# load Model 1"
   ]
  },
  {
   "cell_type": "markdown",
   "metadata": {},
   "source": [
    "- ### rebuild model\n",
    "- ### evaluate"
   ]
  },
  {
   "cell_type": "code",
   "execution_count": 172,
   "metadata": {},
   "outputs": [
    {
     "name": "stdout",
     "output_type": "stream",
     "text": [
      "102/102 - 4s - loss: 0.6667 - accuracy: 0.7149 - 4s/epoch - 39ms/step\n",
      "Untrained model, accuracy: 71.49%\n"
     ]
    }
   ],
   "source": [
    "modelLSTM = create_model()\n",
    "\n",
    "# Evaluate the model\n",
    "loss, acc = modelLSTM.evaluate(train_data, verbose=2)\n",
    "print(\"Untrained model, accuracy: {:5.2f}%\".format(100 * acc))"
   ]
  },
  {
   "cell_type": "code",
   "execution_count": 173,
   "metadata": {},
   "outputs": [
    {
     "name": "stderr",
     "output_type": "stream",
     "text": [
      "WARNING:absl:Skipping variable loading for optimizer 'Adam', because it has 1 variables whereas the saved optimizer has 15 variables. \n"
     ]
    },
    {
     "name": "stdout",
     "output_type": "stream",
     "text": [
      "102/102 - 4s - loss: 0.2883 - accuracy: 0.8766 - 4s/epoch - 44ms/step\n",
      "Untrained model, accuracy: 87.66%\n"
     ]
    }
   ],
   "source": [
    "# Loads the weights\n",
    "# model.load(checkpoint_path)\n",
    "loaded_model = modelTST.load_weights(checkpoint_path)\n",
    "\n",
    "# Evaluate the model\n",
    "loss, acc = modelTST.evaluate(train_data, verbose=2)\n",
    "print(\"Untrained model, accuracy: {:5.2f}%\".format(100 * acc))\n",
    "\n",
    "# loaded_model = tf.keras.models.load_model('/home/heidless/projects/heidless-python/dataSci-APPS-2/sandbox/tensorflow-classification/admin/wine_0/cp.keras')"
   ]
  },
  {
   "cell_type": "code",
   "execution_count": null,
   "metadata": {},
   "outputs": [],
   "source": []
  }
 ],
 "metadata": {
  "colab": {
   "authorship_tag": "ABX9TyMRND1sPRBY7ZFX4yUnedpO",
   "provenance": []
  },
  "kernelspec": {
   "display_name": "Python 3 (ipykernel)",
   "language": "python",
   "name": "python3"
  },
  "language_info": {
   "codemirror_mode": {
    "name": "ipython",
    "version": 3
   },
   "file_extension": ".py",
   "mimetype": "text/x-python",
   "name": "python",
   "nbconvert_exporter": "python",
   "pygments_lexer": "ipython3",
   "version": "3.11.10"
  }
 },
 "nbformat": 4,
 "nbformat_minor": 4
}
