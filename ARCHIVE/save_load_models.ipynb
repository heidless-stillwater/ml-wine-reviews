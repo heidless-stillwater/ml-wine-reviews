{
 "cells": [
  {
   "cell_type": "code",
   "execution_count": null,
   "id": "940ef3f9-39fc-478c-9cbc-f3e990e6eace",
   "metadata": {},
   "outputs": [],
   "source": [
    "#!pip install pyyaml h5py  # Required to save models in HDF5 format."
   ]
  },
  {
   "cell_type": "code",
   "execution_count": 17,
   "id": "7da58927-b6f6-4084-b740-b2120274c9ef",
   "metadata": {},
   "outputs": [
    {
     "name": "stdout",
     "output_type": "stream",
     "text": [
      "2.15.0\n"
     ]
    }
   ],
   "source": [
    "import os\n",
    "\n",
    "import tensorflow as tf\n",
    "from tensorflow import keras\n",
    "\n",
    "print(tf.version.VERSION)"
   ]
  },
  {
   "cell_type": "markdown",
   "id": "88e281a6-a69d-4e87-ad02-bcd037967801",
   "metadata": {},
   "source": [
    "### Get an example dataset\n",
    "\n",
    "To demonstrate how to save and load weights, you'll use the [MNIST dataset](http://yann.lecun.com/exdb/mnist/). To speed up these runs, use the first 1000 examples:"
   ]
  },
  {
   "cell_type": "code",
   "execution_count": 18,
   "id": "23ed5428-a26d-457d-802f-769d42a14d65",
   "metadata": {},
   "outputs": [],
   "source": [
    "(train_images, train_labels), (test_images, test_labels) = tf.keras.datasets.mnist.load_data()\n",
    "\n",
    "train_labels = train_labels[:1000]\n",
    "test_labels = test_labels[:1000]\n",
    "\n",
    "train_images = train_images[:1000].reshape(-1, 28 * 28) / 255.0\n",
    "test_images = test_images[:1000].reshape(-1, 28 * 28) / 255.0"
   ]
  },
  {
   "cell_type": "markdown",
   "id": "bba6cb45-4303-4493-ac9a-46d36995ca57",
   "metadata": {},
   "source": [
    "### Define a model"
   ]
  },
  {
   "cell_type": "markdown",
   "id": "3ef604b9-4e31-435e-abdc-9037c8caeabe",
   "metadata": {},
   "source": [
    "Start by building a simple sequential model:\n"
   ]
  },
  {
   "cell_type": "code",
   "execution_count": 20,
   "id": "51e526e0-0dcd-4909-80d3-1fc3b9e96403",
   "metadata": {},
   "outputs": [
    {
     "name": "stdout",
     "output_type": "stream",
     "text": [
      "Model: \"sequential_5\"\n",
      "_________________________________________________________________\n",
      " Layer (type)                Output Shape              Param #   \n",
      "=================================================================\n",
      " dense_10 (Dense)            (None, 512)               401920    \n",
      "                                                                 \n",
      " dropout_5 (Dropout)         (None, 512)               0         \n",
      "                                                                 \n",
      " dense_11 (Dense)            (None, 10)                5130      \n",
      "                                                                 \n",
      "=================================================================\n",
      "Total params: 407050 (1.55 MB)\n",
      "Trainable params: 407050 (1.55 MB)\n",
      "Non-trainable params: 0 (0.00 Byte)\n",
      "_________________________________________________________________\n"
     ]
    }
   ],
   "source": [
    "# Define a simple sequential model\n",
    "def create_model():\n",
    "  model = tf.keras.Sequential([\n",
    "    keras.layers.Dense(512, activation='relu', input_shape=(784,)),\n",
    "    keras.layers.Dropout(0.2),\n",
    "    keras.layers.Dense(10)\n",
    "  ])\n",
    "\n",
    "  model.compile(optimizer='adam',\n",
    "                loss=tf.keras.losses.SparseCategoricalCrossentropy(from_logits=True),\n",
    "                metrics=[tf.keras.metrics.SparseCategoricalAccuracy()])\n",
    "\n",
    "  return model\n",
    "\n",
    "# Create a basic model instance\n",
    "model = create_model()\n",
    "\n",
    "# Display the model's architecture\n",
    "model.summary()"
   ]
  },
  {
   "cell_type": "markdown",
   "id": "602a3879-798f-43ec-858b-313b6f0b7d47",
   "metadata": {},
   "source": [
    "## Save checkpoints during training"
   ]
  },
  {
   "cell_type": "markdown",
   "id": "1cfa98d6-7ce7-44df-acb5-191eb3a58e99",
   "metadata": {},
   "source": [
    "You can use a trained model without having to retrain it, or pick-up training where you left off in case the training process was interrupted. The `tf.keras.callbacks.ModelCheckpoint` callback allows you to continually save the model both *during* and at *the end* of training.\n",
    "\n",
    "### Checkpoint callback usage\n",
    "\n",
    "Create a `tf.keras.callbacks.ModelCheckpoint` callback that saves weights only during training:"
   ]
  },
  {
   "cell_type": "code",
   "execution_count": 9,
   "id": "edfb202d-630b-47df-9e7d-f9e00205ed25",
   "metadata": {},
   "outputs": [
    {
     "name": "stdout",
     "output_type": "stream",
     "text": [
      "Epoch 1/10\n",
      "31/32 [============================>.] - ETA: 0s - loss: 0.0372 - sparse_categorical_accuracy: 0.9980\n",
      "Epoch 1: saving model to training_1/cp.weights.h5\n",
      "32/32 [==============================] - 0s 14ms/step - loss: 0.0372 - sparse_categorical_accuracy: 0.9980 - val_loss: 0.4375 - val_sparse_categorical_accuracy: 0.8660\n",
      "Epoch 2/10\n",
      "30/32 [===========================>..] - ETA: 0s - loss: 0.0266 - sparse_categorical_accuracy: 0.9990\n",
      "Epoch 2: saving model to training_1/cp.weights.h5\n",
      "32/32 [==============================] - -2s -78631us/step - loss: 0.0272 - sparse_categorical_accuracy: 0.9990 - val_loss: 0.4270 - val_sparse_categorical_accuracy: 0.8660\n",
      "Epoch 3/10\n",
      "28/32 [=========================>....] - ETA: 0s - loss: 0.0223 - sparse_categorical_accuracy: 1.0000\n",
      "Epoch 3: saving model to training_1/cp.weights.h5\n",
      "32/32 [==============================] - 0s 10ms/step - loss: 0.0219 - sparse_categorical_accuracy: 1.0000 - val_loss: 0.4300 - val_sparse_categorical_accuracy: 0.8660\n",
      "Epoch 4/10\n",
      "27/32 [========================>.....] - ETA: 0s - loss: 0.0173 - sparse_categorical_accuracy: 1.0000\n",
      "Epoch 4: saving model to training_1/cp.weights.h5\n",
      "32/32 [==============================] - 0s 9ms/step - loss: 0.0176 - sparse_categorical_accuracy: 1.0000 - val_loss: 0.4250 - val_sparse_categorical_accuracy: 0.8700\n",
      "Epoch 5/10\n",
      "28/32 [=========================>....] - ETA: 0s - loss: 0.0150 - sparse_categorical_accuracy: 1.0000\n",
      "Epoch 5: saving model to training_1/cp.weights.h5\n",
      "32/32 [==============================] - 0s 9ms/step - loss: 0.0153 - sparse_categorical_accuracy: 1.0000 - val_loss: 0.4362 - val_sparse_categorical_accuracy: 0.8700\n",
      "Epoch 6/10\n",
      "28/32 [=========================>....] - ETA: 0s - loss: 0.0146 - sparse_categorical_accuracy: 1.0000\n",
      "Epoch 6: saving model to training_1/cp.weights.h5\n",
      "32/32 [==============================] - 0s 9ms/step - loss: 0.0147 - sparse_categorical_accuracy: 1.0000 - val_loss: 0.4402 - val_sparse_categorical_accuracy: 0.8640\n",
      "Epoch 7/10\n",
      "28/32 [=========================>....] - ETA: 0s - loss: 0.0119 - sparse_categorical_accuracy: 1.0000\n",
      "Epoch 7: saving model to training_1/cp.weights.h5\n",
      "32/32 [==============================] - 0s 9ms/step - loss: 0.0123 - sparse_categorical_accuracy: 1.0000 - val_loss: 0.4362 - val_sparse_categorical_accuracy: 0.8670\n",
      "Epoch 8/10\n",
      "27/32 [========================>.....] - ETA: 0s - loss: 0.0103 - sparse_categorical_accuracy: 1.0000\n",
      "Epoch 8: saving model to training_1/cp.weights.h5\n",
      "32/32 [==============================] - 0s 9ms/step - loss: 0.0106 - sparse_categorical_accuracy: 1.0000 - val_loss: 0.4319 - val_sparse_categorical_accuracy: 0.8720\n",
      "Epoch 9/10\n",
      "26/32 [=======================>......] - ETA: 0s - loss: 0.0097 - sparse_categorical_accuracy: 1.0000\n",
      "Epoch 9: saving model to training_1/cp.weights.h5\n",
      "32/32 [==============================] - 0s 10ms/step - loss: 0.0092 - sparse_categorical_accuracy: 1.0000 - val_loss: 0.4377 - val_sparse_categorical_accuracy: 0.8730\n",
      "Epoch 10/10\n",
      "28/32 [=========================>....] - ETA: 0s - loss: 0.0089 - sparse_categorical_accuracy: 1.0000\n",
      "Epoch 10: saving model to training_1/cp.weights.h5\n",
      "32/32 [==============================] - 0s 10ms/step - loss: 0.0091 - sparse_categorical_accuracy: 1.0000 - val_loss: 0.4555 - val_sparse_categorical_accuracy: 0.8720\n"
     ]
    },
    {
     "data": {
      "text/plain": [
       "<keras.src.callbacks.History at 0x7f3005f2cf50>"
      ]
     },
     "execution_count": 9,
     "metadata": {},
     "output_type": "execute_result"
    }
   ],
   "source": [
    "# checkpoint_path = \"training_1/cp.weights.h5\" # Since you're only saving weights, you should use the .weights.h5 extension. If you're saving the whole model, you would use the .keras extension instead\n",
    "checkpoint_path = \"training_1/cp.keras\" \n",
    "checkpoint_dir = os.path.dirname(checkpoint_path)\n",
    "\n",
    "# Create a callback that saves the model's weights\n",
    "cp_callback = tf.keras.callbacks.ModelCheckpoint(filepath=checkpoint_path,\n",
    "                                                 save_weights_only=True,\n",
    "                                                 verbose=1)\n",
    "\n",
    "# Train the model with the new callback\n",
    "model.fit(train_images,\n",
    "          train_labels,\n",
    "          epochs=10,\n",
    "          validation_data=(test_images, test_labels),\n",
    "          callbacks=[cp_callback])  # Pass callback to training\n",
    "\n",
    "# This may generate warnings related to saving the state of the optimizer.\n",
    "# These warnings (and similar warnings throughout this notebook)\n",
    "# are in place to discourage outdated usage, and can be ignored."
   ]
  },
  {
   "cell_type": "markdown",
   "id": "c5567987-3a0d-43ab-9bf6-fba475ecf801",
   "metadata": {},
   "source": [
    "This creates a single collection of TensorFlow checkpoint files that are updated at the end of each epoch:"
   ]
  },
  {
   "cell_type": "code",
   "execution_count": 10,
   "id": "af47defd-ebbf-4ab9-a2fd-2d1280eb04a6",
   "metadata": {},
   "outputs": [
    {
     "data": {
      "text/plain": [
       "['cp.weights.h5']"
      ]
     },
     "execution_count": 10,
     "metadata": {},
     "output_type": "execute_result"
    }
   ],
   "source": [
    "os.listdir(checkpoint_dir)"
   ]
  },
  {
   "cell_type": "markdown",
   "id": "cdf873d4-1f29-41a5-b5e3-e52800fdadcf",
   "metadata": {},
   "source": [
    "As long as two models share the same architecture you can share weights between them. So, when restoring a model from weights-only, create a model with the same architecture as the original model and then set its weights.\n",
    "\n",
    "Now rebuild a fresh, untrained model and evaluate it on the test set. An untrained model will perform at chance levels (~10% accuracy):"
   ]
  },
  {
   "cell_type": "code",
   "execution_count": 11,
   "id": "f1da3888-62a5-4282-99af-6f598ea7f339",
   "metadata": {},
   "outputs": [
    {
     "name": "stdout",
     "output_type": "stream",
     "text": [
      "32/32 - 0s - loss: 2.3610 - sparse_categorical_accuracy: 0.1180 - 139ms/epoch - 4ms/step\n",
      "Untrained model, accuracy: 11.80%\n"
     ]
    }
   ],
   "source": [
    "# Create a basic model instance\n",
    "model = create_model()\n",
    "\n",
    "# Evaluate the model\n",
    "loss, acc = model.evaluate(test_images, test_labels, verbose=2)\n",
    "print(\"Untrained model, accuracy: {:5.2f}%\".format(100 * acc))"
   ]
  },
  {
   "cell_type": "markdown",
   "id": "6c57a940-fa50-4241-8e68-e3a0bf449f10",
   "metadata": {},
   "source": [
    "Then load the weights from the checkpoint and re-evaluate:\n",
    "\n",
    "---\n",
    "\n"
   ]
  },
  {
   "cell_type": "code",
   "execution_count": 12,
   "id": "46f8acd7-21a3-47c3-965d-67cf150a7400",
   "metadata": {},
   "outputs": [
    {
     "name": "stderr",
     "output_type": "stream",
     "text": [
      "WARNING:absl:Skipping variable loading for optimizer 'Adam', because it has 1 variables whereas the saved optimizer has 9 variables. \n"
     ]
    },
    {
     "name": "stdout",
     "output_type": "stream",
     "text": [
      "32/32 - 0s - loss: 0.4555 - sparse_categorical_accuracy: 0.8720 - 113ms/epoch - 4ms/step\n",
      "Restored model, accuracy: 87.20%\n"
     ]
    }
   ],
   "source": [
    "# Loads the weights\n",
    "model.load_weights(checkpoint_path)\n",
    "\n",
    "# Re-evaluate the model\n",
    "loss, acc = model.evaluate(test_images, test_labels, verbose=2)\n",
    "print(\"Restored model, accuracy: {:5.2f}%\".format(100 * acc))"
   ]
  },
  {
   "cell_type": "markdown",
   "id": "23e6a358-a0c6-4c5b-93a7-bd84036f49cc",
   "metadata": {},
   "source": [
    "### Checkpoint callback options\n",
    "\n",
    "The callback provides several options to provide unique names for checkpoints and adjust the checkpointing frequency.\n",
    "\n",
    "Train a new model, and save uniquely named checkpoints once every five epochs:"
   ]
  },
  {
   "cell_type": "code",
   "execution_count": 13,
   "id": "a0713dbb-b9d5-400f-b5c7-73e6c065fda1",
   "metadata": {},
   "outputs": [
    {
     "name": "stdout",
     "output_type": "stream",
     "text": [
      "\n",
      "Epoch 5: saving model to training_2/cp-0005.weights.h5\n",
      "\n",
      "Epoch 10: saving model to training_2/cp-0010.weights.h5\n",
      "\n",
      "Epoch 15: saving model to training_2/cp-0015.weights.h5\n",
      "\n",
      "Epoch 20: saving model to training_2/cp-0020.weights.h5\n",
      "\n",
      "Epoch 25: saving model to training_2/cp-0025.weights.h5\n",
      "\n",
      "Epoch 30: saving model to training_2/cp-0030.weights.h5\n",
      "\n",
      "Epoch 35: saving model to training_2/cp-0035.weights.h5\n",
      "\n",
      "Epoch 40: saving model to training_2/cp-0040.weights.h5\n",
      "\n",
      "Epoch 45: saving model to training_2/cp-0045.weights.h5\n",
      "\n",
      "Epoch 50: saving model to training_2/cp-0050.weights.h5\n"
     ]
    },
    {
     "data": {
      "text/plain": [
       "<keras.src.callbacks.History at 0x7f300418c910>"
      ]
     },
     "execution_count": 13,
     "metadata": {},
     "output_type": "execute_result"
    }
   ],
   "source": [
    "# Include the epoch in the file name (uses `str.format`)\n",
    "checkpoint_path = \"training_2/cp-{epoch:04d}.weights.h5\"\n",
    "checkpoint_dir = os.path.dirname(checkpoint_path)\n",
    "os.mkdir(checkpoint_dir)\n",
    "\n",
    "batch_size = 32\n",
    "\n",
    "# Calculate the number of batches per epoch\n",
    "import math\n",
    "n_batches = len(train_images) / batch_size\n",
    "n_batches = math.ceil(n_batches)    # round up the number of batches to the nearest whole integer\n",
    "\n",
    "# Create a callback that saves the model's weights every 5 epochs\n",
    "cp_callback = tf.keras.callbacks.ModelCheckpoint(\n",
    "    filepath=checkpoint_path,\n",
    "    verbose=1,\n",
    "    save_weights_only=True,\n",
    "    save_freq=5*n_batches)\n",
    "\n",
    "# Create a new model instance\n",
    "model = create_model()\n",
    "\n",
    "# Save the weights using the `checkpoint_path` format\n",
    "model.save_weights(checkpoint_path.format(epoch=0))\n",
    "\n",
    "# Train the model with the new callback\n",
    "model.fit(train_images,\n",
    "          train_labels,\n",
    "          epochs=50,\n",
    "          batch_size=batch_size,\n",
    "          callbacks=[cp_callback],\n",
    "          validation_data=(test_images, test_labels),\n",
    "          verbose=0)"
   ]
  },
  {
   "cell_type": "markdown",
   "id": "1e06fe21-e36b-4a60-87e0-5e5b070fcd80",
   "metadata": {},
   "source": [
    "Now, review the resulting checkpoints and choose the latest one:\n",
    "\n",
    "---"
   ]
  },
  {
   "cell_type": "code",
   "execution_count": 14,
   "id": "49ed680f-f89f-4f98-9383-537a044b8ab2",
   "metadata": {},
   "outputs": [
    {
     "data": {
      "text/plain": [
       "['cp-0015.weights.h5',\n",
       " 'cp-0005.weights.h5',\n",
       " 'cp-0030.weights.h5',\n",
       " 'cp-0020.weights.h5',\n",
       " 'cp-0045.weights.h5',\n",
       " 'cp-0010.weights.h5',\n",
       " 'cp-0035.weights.h5',\n",
       " 'cp-0000.weights.h5',\n",
       " 'cp-0025.weights.h5',\n",
       " 'cp-0040.weights.h5',\n",
       " 'cp-0050.weights.h5']"
      ]
     },
     "execution_count": 14,
     "metadata": {},
     "output_type": "execute_result"
    }
   ],
   "source": [
    "os.listdir(checkpoint_dir)"
   ]
  },
  {
   "cell_type": "code",
   "execution_count": 15,
   "id": "19d105ad-de18-43e4-9b10-19b4a64198ab",
   "metadata": {},
   "outputs": [
    {
     "data": {
      "text/plain": [
       "'training_2/cp-0050.weights.h5'"
      ]
     },
     "execution_count": 15,
     "metadata": {},
     "output_type": "execute_result"
    }
   ],
   "source": [
    "def load_latest_checkpoint(checkpoint_dir):\n",
    "    latest = max(os.listdir(checkpoint_dir), key=lambda f: int(f.split('-')[1].split('.')[0]))\n",
    "    return os.path.join(checkpoint_dir, latest)\n",
    "\n",
    "latest = load_latest_checkpoint(checkpoint_dir)\n",
    "latest"
   ]
  },
  {
   "cell_type": "markdown",
   "id": "9ed93e4d-41d9-44ae-9a72-fb7a228b0eea",
   "metadata": {},
   "source": [
    "Note: The default TensorFlow format only saves the 5 most recent checkpoints.\n",
    "\n",
    "To test, reset the model, and load the latest checkpoint:"
   ]
  },
  {
   "cell_type": "code",
   "execution_count": 16,
   "id": "eb2a97bb-e68a-4a37-b778-71e7937ae00a",
   "metadata": {},
   "outputs": [
    {
     "name": "stderr",
     "output_type": "stream",
     "text": [
      "WARNING:absl:Skipping variable loading for optimizer 'Adam', because it has 1 variables whereas the saved optimizer has 9 variables. \n"
     ]
    },
    {
     "name": "stdout",
     "output_type": "stream",
     "text": [
      "32/32 - 0s - loss: 0.4842 - sparse_categorical_accuracy: 0.8740 - 148ms/epoch - 5ms/step\n",
      "Restored model, accuracy: 87.40%\n"
     ]
    }
   ],
   "source": [
    "# Create a new model instance\n",
    "model = create_model()\n",
    "\n",
    "# Load the previously saved weights\n",
    "model.load_weights(latest)\n",
    "\n",
    "# Re-evaluate the model\n",
    "loss, acc = model.evaluate(test_images, test_labels, verbose=2)\n",
    "print(\"Restored model, accuracy: {:5.2f}%\".format(100 * acc))"
   ]
  },
  {
   "cell_type": "code",
   "execution_count": null,
   "id": "506154da-c1c5-4a53-b80b-f6179a273717",
   "metadata": {},
   "outputs": [],
   "source": []
  }
 ],
 "metadata": {
  "kernelspec": {
   "display_name": "Python 3 (ipykernel)",
   "language": "python",
   "name": "python3"
  },
  "language_info": {
   "codemirror_mode": {
    "name": "ipython",
    "version": 3
   },
   "file_extension": ".py",
   "mimetype": "text/x-python",
   "name": "python",
   "nbconvert_exporter": "python",
   "pygments_lexer": "ipython3",
   "version": "3.11.10"
  }
 },
 "nbformat": 4,
 "nbformat_minor": 5
}
